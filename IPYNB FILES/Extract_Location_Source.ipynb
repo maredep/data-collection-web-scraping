{
 "cells": [
  {
   "cell_type": "code",
   "execution_count": 1,
   "metadata": {},
   "outputs": [],
   "source": [
    "from bs4 import BeautifulSoup\n",
    "import requests\n",
    "#import bs4\n",
    "import lxml\n",
    "from requests.adapters import HTTPAdapter\n",
    "from urllib3.util.retry import Retry\n",
    "import pandas as pd\n",
    "import numpy as np\n",
    "import re"
   ]
  },
  {
   "cell_type": "code",
   "execution_count": 2,
   "metadata": {},
   "outputs": [],
   "source": [
    "locations_data = []"
   ]
  },
  {
   "cell_type": "code",
   "execution_count": 4,
   "metadata": {},
   "outputs": [],
   "source": [
    "headers = {\n",
    "    'User-Agent': 'Mozilla/5.0 (Windows NT 10.0; Win64; x64) AppleWebKit/537.36 (KHTML, like Gecko) Chrome/109.0.0.0 Safari/537.36',\n",
    "    'Accept-Language': 'en-US,en;q=0.9'\n",
    "}"
   ]
  },
  {
   "cell_type": "code",
   "execution_count": 5,
   "metadata": {},
   "outputs": [],
   "source": [
    "def scrape(url):\n",
    "    try:\n",
    "        # Send an HTTP GET request to the URL\n",
    "        response = requests.get(url, headers=headers)\n",
    "        response.raise_for_status()  # Raise an exception for HTTP errors\n",
    "\n",
    "        # Parse the HTML content using BeautifulSoup\n",
    "        soup = BeautifulSoup(response.text, 'lxml')\n",
    "\n",
    "        return soup  # Return the BeautifulSoup object\n",
    "\n",
    "    except Exception as e:\n",
    "        print(f\"Error: {e}\")\n",
    "        return None"
   ]
  },
  {
   "cell_type": "code",
   "execution_count": 6,
   "metadata": {},
   "outputs": [],
   "source": [
    "soup = scrape('https://en.wikipedia.org/wiki/Pasay')"
   ]
  },
  {
   "cell_type": "code",
   "execution_count": 7,
   "metadata": {},
   "outputs": [],
   "source": [
    "location_data = soup.select('td', {'class': 'infobox-data'})\n",
    "location = \"Pasay\"\n",
    "population = location_data[29].getText()\n",
    "language = location_data[44].getText()\n",
    "desc = soup.select('p')\n",
    "description = desc[1].getText()\n",
    "locations_data.append({\n",
    "        'Location': location,\n",
    "        'Population': population,\n",
    "        'Language': language,\n",
    "        'Description': description    \n",
    "    })"
   ]
  },
  {
   "cell_type": "code",
   "execution_count": 8,
   "metadata": {},
   "outputs": [],
   "source": [
    "soup = scrape('https://en.wikipedia.org/wiki/Manila')"
   ]
  },
  {
   "cell_type": "code",
   "execution_count": 9,
   "metadata": {},
   "outputs": [],
   "source": [
    "location_data = soup.select('td', {'class': 'infobox-data'})\n",
    "location = \"Manila\"\n",
    "population = location_data[33].getText()\n",
    "language = location_data[53].getText()\n",
    "desc = soup.select('p')\n",
    "description = desc[1].getText()\n",
    "locations_data.append({\n",
    "        'Location': location,\n",
    "        'Population': population,\n",
    "        'Language': language,\n",
    "        'Description': description    \n",
    "    })"
   ]
  },
  {
   "cell_type": "code",
   "execution_count": 10,
   "metadata": {},
   "outputs": [],
   "source": [
    "soup = scrape('https://en.wikipedia.org/wiki/Makati')"
   ]
  },
  {
   "cell_type": "code",
   "execution_count": 11,
   "metadata": {},
   "outputs": [],
   "source": [
    "location_data = soup.select('td', {'class': 'infobox-data'})\n",
    "location = \"Makati\"\n",
    "population = location_data[31].getText()\n",
    "language = location_data[47].getText()\n",
    "desc = soup.select('p')\n",
    "description = desc[1].getText()\n",
    "locations_data.append({\n",
    "        'Location': location,\n",
    "        'Population': population,\n",
    "        'Language': language,\n",
    "        'Description': description    \n",
    "    })"
   ]
  },
  {
   "cell_type": "code",
   "execution_count": 12,
   "metadata": {},
   "outputs": [],
   "source": [
    "soup = scrape('https://en.wikipedia.org/wiki/Para%C3%B1aque')"
   ]
  },
  {
   "cell_type": "code",
   "execution_count": 13,
   "metadata": {},
   "outputs": [],
   "source": [
    "location_data = soup.select('td', {'class': 'infobox-data'})\n",
    "location = \"Paranaque\"\n",
    "population = location_data[28].getText()\n",
    "language = location_data[43].getText()\n",
    "desc = soup.select('p')\n",
    "description = desc[1].getText()\n",
    "locations_data.append({\n",
    "        'Location': location,\n",
    "        'Population': population,\n",
    "        'Language': language,\n",
    "        'Description': description    \n",
    "    })"
   ]
  },
  {
   "cell_type": "code",
   "execution_count": 14,
   "metadata": {},
   "outputs": [],
   "source": [
    "soup = scrape('https://en.wikipedia.org/wiki/Loboc')"
   ]
  },
  {
   "cell_type": "code",
   "execution_count": 15,
   "metadata": {},
   "outputs": [],
   "source": [
    "location_data = soup.select('td', {'class': 'infobox-data'})\n",
    "location = \"Loboc\"\n",
    "population = location_data[24].getText()\n",
    "language = location_data[38].getText()\n",
    "desc = soup.select('p')\n",
    "description = desc[1].getText()\n",
    "locations_data.append({\n",
    "        'Location': location,\n",
    "        'Population': population,\n",
    "        'Language': language,\n",
    "        'Description': description    \n",
    "    })"
   ]
  },
  {
   "cell_type": "code",
   "execution_count": 16,
   "metadata": {},
   "outputs": [],
   "source": [
    "soup = scrape('https://en.wikipedia.org/wiki/San_Fernando,_Pampanga')"
   ]
  },
  {
   "cell_type": "code",
   "execution_count": 17,
   "metadata": {},
   "outputs": [],
   "source": [
    "location_data = soup.select('td', {'class': 'infobox-data'})\n",
    "location = \"San Fernando\"\n",
    "population = location_data[31].getText()\n",
    "language = location_data[46].getText()\n",
    "desc = soup.select('p')\n",
    "description = desc[1].getText()\n",
    "locations_data.append({\n",
    "        'Location': location,\n",
    "        'Population': population,\n",
    "        'Language': language,\n",
    "        'Description': description    \n",
    "    })"
   ]
  },
  {
   "cell_type": "code",
   "execution_count": 18,
   "metadata": {},
   "outputs": [],
   "source": [
    "soup = scrape('https://en.wikipedia.org/wiki/Butuan')"
   ]
  },
  {
   "cell_type": "code",
   "execution_count": 19,
   "metadata": {},
   "outputs": [],
   "source": [
    "location_data = soup.select('td', {'class': 'infobox-data'})\n",
    "location = \"Butuan\"\n",
    "population = location_data[27].getText()\n",
    "language = location_data[42].getText()\n",
    "# Split the text into words\n",
    "words = language.split()\n",
    "\n",
    "# Get the last word\n",
    "if len(words) > 0:\n",
    "    last_word = words[-1]\n",
    "    language = last_word\n",
    "else:\n",
    "    print(\"The text is empty.\")\n",
    "\n",
    "desc = soup.select('p')\n",
    "description = desc[1].getText()\n",
    "locations_data.append({\n",
    "        'Location': location,\n",
    "        'Population': population,\n",
    "        'Language': language,\n",
    "        'Description': description    \n",
    "    })"
   ]
  },
  {
   "cell_type": "code",
   "execution_count": 20,
   "metadata": {},
   "outputs": [],
   "source": [
    "soup = scrape('https://en.wikipedia.org/wiki/Lipa,_Batangas')"
   ]
  },
  {
   "cell_type": "code",
   "execution_count": 21,
   "metadata": {},
   "outputs": [],
   "source": [
    "location_data = soup.select('td', {'class': 'infobox-data'})\n",
    "location = \"Lipa\"\n",
    "population = location_data[30].getText()\n",
    "language = location_data[44].getText()\n",
    "desc = soup.select('p')\n",
    "description = desc[1].getText()\n",
    "locations_data.append({\n",
    "        'Location': location,\n",
    "        'Population': population,\n",
    "        'Language': language,\n",
    "        'Description': description    \n",
    "    })"
   ]
  },
  {
   "cell_type": "code",
   "execution_count": 22,
   "metadata": {},
   "outputs": [],
   "source": [
    "soup = scrape('https://en.wikipedia.org/wiki/Ozamiz')"
   ]
  },
  {
   "cell_type": "code",
   "execution_count": 23,
   "metadata": {},
   "outputs": [],
   "source": [
    "location_data = soup.select('td', {'class': 'infobox-data'})\n",
    "location = \"Ozamiz\"\n",
    "population = location_data[28].getText()\n",
    "language = location_data[42].getText()\n",
    "desc = soup.select('p')\n",
    "description = desc[1].getText()\n",
    "locations_data.append({\n",
    "        'Location': location,\n",
    "        'Population': population,\n",
    "        'Language': language,\n",
    "        'Description': description    \n",
    "    })"
   ]
  },
  {
   "cell_type": "code",
   "execution_count": 24,
   "metadata": {},
   "outputs": [],
   "source": [
    "soup = scrape('https://en.wikipedia.org/wiki/Surigao_City')"
   ]
  },
  {
   "cell_type": "code",
   "execution_count": 25,
   "metadata": {},
   "outputs": [],
   "source": [
    "location_data = soup.select('td', {'class': 'infobox-data'})\n",
    "location = \"Surigao\"\n",
    "population = location_data[26].getText()\n",
    "language = location_data[40].getText()\n",
    "desc = soup.select('p')\n",
    "description = desc[0].getText()\n",
    "locations_data.append({\n",
    "        'Location': location,\n",
    "        'Population': population,\n",
    "        'Language': language,\n",
    "        'Description': description    \n",
    "    })"
   ]
  },
  {
   "cell_type": "code",
   "execution_count": 26,
   "metadata": {},
   "outputs": [],
   "source": [
    "soup = scrape('https://en.wikipedia.org/wiki/Tuguegarao')"
   ]
  },
  {
   "cell_type": "code",
   "execution_count": 27,
   "metadata": {},
   "outputs": [],
   "source": [
    "location_data = soup.select('td', {'class': 'infobox-data'})\n",
    "location = \"Tuguegarao City\"\n",
    "population = location_data[27].getText()\n",
    "language = location_data[42].getText()\n",
    "desc = soup.select('p')\n",
    "description = desc[1].getText()\n",
    "locations_data.append({\n",
    "        'Location': location,\n",
    "        'Population': population,\n",
    "        'Language': language,\n",
    "        'Description': description    \n",
    "    })"
   ]
  },
  {
   "cell_type": "code",
   "execution_count": 28,
   "metadata": {},
   "outputs": [],
   "source": [
    "soup = scrape('https://en.wikipedia.org/wiki/Zamboanga_City')"
   ]
  },
  {
   "cell_type": "code",
   "execution_count": 29,
   "metadata": {},
   "outputs": [],
   "source": [
    "location_data = soup.select('td', {'class': 'infobox-data'})\n",
    "location = \"Zamboanga\"\n",
    "population = location_data[32].getText()\n",
    "language = location_data[49].getText()\n",
    "# Split the text into words\n",
    "words = language.split()\n",
    "\n",
    "# Get the last word\n",
    "if len(words) > 0:\n",
    "    last_word = words[-1]\n",
    "    language = last_word\n",
    "else:\n",
    "    print(\"The text is empty.\")\n",
    "desc = soup.select('p')\n",
    "description = desc[2].getText()\n",
    "locations_data.append({\n",
    "        'Location': location,\n",
    "        'Population': population,\n",
    "        'Language': language,\n",
    "        'Description': description    \n",
    "    })"
   ]
  },
  {
   "cell_type": "code",
   "execution_count": 30,
   "metadata": {},
   "outputs": [],
   "source": [
    "soup = scrape('https://en.wikipedia.org/wiki/Samal,_Davao_del_Norte')"
   ]
  },
  {
   "cell_type": "code",
   "execution_count": 31,
   "metadata": {},
   "outputs": [],
   "source": [
    "location_data = soup.select('td', {'class': 'infobox-data'})\n",
    "location = \"Samal\"\n",
    "population = location_data[27].getText()\n",
    "language = location_data[41].getText()\n",
    "desc = soup.select('p')\n",
    "description = desc[1].getText()\n",
    "locations_data.append({\n",
    "        'Location': location,\n",
    "        'Population': population,\n",
    "        'Language': language,\n",
    "        'Description': description    \n",
    "    })"
   ]
  },
  {
   "cell_type": "code",
   "execution_count": 32,
   "metadata": {},
   "outputs": [],
   "source": [
    "soup = scrape('https://en.wikipedia.org/wiki/Iloilo_City')"
   ]
  },
  {
   "cell_type": "code",
   "execution_count": 33,
   "metadata": {},
   "outputs": [],
   "source": [
    "location_data = soup.select('td', {'class': 'infobox-data'})\n",
    "location = \"Iloilo City\"\n",
    "population = location_data[32].getText()\n",
    "language = location_data[52].getText()\n",
    "desc = soup.select('p')\n",
    "description = desc[1].getText()\n",
    "locations_data.append({\n",
    "        'Location': location,\n",
    "        'Population': population,\n",
    "        'Language': language,\n",
    "        'Description': description    \n",
    "    })"
   ]
  },
  {
   "cell_type": "code",
   "execution_count": 34,
   "metadata": {},
   "outputs": [],
   "source": [
    "soup = scrape('https://en.wikipedia.org/wiki/Taguig')"
   ]
  },
  {
   "cell_type": "code",
   "execution_count": 35,
   "metadata": {},
   "outputs": [],
   "source": [
    "location_data = soup.select('td', {'class': 'infobox-data'})\n",
    "location = \"Taguig\"\n",
    "population = location_data[29].getText()\n",
    "language = location_data[48].getText()\n",
    "desc = soup.select('p')\n",
    "description = desc[1].getText()\n",
    "locations_data.append({\n",
    "        'Location': location,\n",
    "        'Population': population,\n",
    "        'Language': language,\n",
    "        'Description': description    \n",
    "    })"
   ]
  },
  {
   "cell_type": "code",
   "execution_count": 36,
   "metadata": {},
   "outputs": [],
   "source": [
    "soup = scrape('https://en.wikipedia.org/wiki/San_Mateo,_Rizal')"
   ]
  },
  {
   "cell_type": "code",
   "execution_count": 37,
   "metadata": {},
   "outputs": [],
   "source": [
    "location_data = soup.select('td', {'class': 'infobox-data'})\n",
    "location = \"San Mateo\"\n",
    "population = location_data[27].getText()\n",
    "language = location_data[42].getText()\n",
    "desc = soup.select('p')\n",
    "description = desc[0].getText()\n",
    "locations_data.append({\n",
    "        'Location': location,\n",
    "        'Population': population,\n",
    "        'Language': language,\n",
    "        'Description': description    \n",
    "    })"
   ]
  },
  {
   "cell_type": "code",
   "execution_count": 38,
   "metadata": {},
   "outputs": [],
   "source": [
    "soup = scrape('https://en.wikipedia.org/wiki/Busuanga,_Palawan')"
   ]
  },
  {
   "cell_type": "code",
   "execution_count": 39,
   "metadata": {},
   "outputs": [],
   "source": [
    "location_data = soup.select('td', {'class': 'infobox-data'})\n",
    "location = \"Busuanga\"\n",
    "population = location_data[25].getText()\n",
    "language = location_data[39].getText()\n",
    "desc = soup.select('p')\n",
    "description = desc[0].getText()\n",
    "locations_data.append({\n",
    "        'Location': location,\n",
    "        'Population': population,\n",
    "        'Language': language,\n",
    "        'Description': description    \n",
    "    })"
   ]
  },
  {
   "cell_type": "code",
   "execution_count": 40,
   "metadata": {},
   "outputs": [],
   "source": [
    "soup = scrape('https://en.wikipedia.org/wiki/Naga,_Camarines_Sur')"
   ]
  },
  {
   "cell_type": "code",
   "execution_count": 41,
   "metadata": {},
   "outputs": [],
   "source": [
    "location_data = soup.select('td', {'class': 'infobox-data'})\n",
    "location = \"Naga\"\n",
    "population = location_data[33].getText()\n",
    "language = location_data[52].getText()\n",
    "desc = soup.select('p')\n",
    "description = desc[1].getText()\n",
    "locations_data.append({\n",
    "        'Location': location,\n",
    "        'Population': population,\n",
    "        'Language': language,\n",
    "        'Description': description    \n",
    "    })"
   ]
  },
  {
   "cell_type": "code",
   "execution_count": 42,
   "metadata": {},
   "outputs": [],
   "source": [
    "soup = scrape('https://en.wikipedia.org/wiki/Santa_Rosa,_Laguna')"
   ]
  },
  {
   "cell_type": "code",
   "execution_count": 43,
   "metadata": {},
   "outputs": [],
   "source": [
    "location_data = soup.select('td', {'class': 'infobox-data'})\n",
    "location = \"Sta Rosa\"\n",
    "population = location_data[28].getText()\n",
    "language = location_data[43].getText()\n",
    "desc = soup.select('p')\n",
    "description = desc[1].getText()\n",
    "locations_data.append({\n",
    "        'Location': location,\n",
    "        'Population': population,\n",
    "        'Language': language,\n",
    "        'Description': description    \n",
    "    })"
   ]
  },
  {
   "cell_type": "code",
   "execution_count": 44,
   "metadata": {},
   "outputs": [],
   "source": [
    "soup = scrape('https://en.wikipedia.org/wiki/Iligan')"
   ]
  },
  {
   "cell_type": "code",
   "execution_count": 45,
   "metadata": {},
   "outputs": [],
   "source": [
    "location_data = soup.select('td', {'class': 'infobox-data'})\n",
    "location = \"Iligan\"\n",
    "population = location_data[29].getText()\n",
    "language = location_data[43].getText()\n",
    "desc = soup.select('p')\n",
    "description = desc[1].getText()\n",
    "locations_data.append({\n",
    "        'Location': location,\n",
    "        'Population': population,\n",
    "        'Language': language,\n",
    "        'Description': description    \n",
    "    })"
   ]
  },
  {
   "cell_type": "code",
   "execution_count": 46,
   "metadata": {},
   "outputs": [],
   "source": [
    "soup = scrape('https://en.wikipedia.org/wiki/Bulalacao')"
   ]
  },
  {
   "cell_type": "code",
   "execution_count": 47,
   "metadata": {},
   "outputs": [],
   "source": [
    "location_data = soup.select('td', {'class': 'infobox-data'})\n",
    "location = \"Bulalacao\"\n",
    "population = location_data[23].getText()\n",
    "language = location_data[37].getText()\n",
    "desc = soup.select('p')\n",
    "description = desc[0].getText()\n",
    "locations_data.append({\n",
    "        'Location': location,\n",
    "        'Population': population,\n",
    "        'Language': language,\n",
    "        'Description': description    \n",
    "    })"
   ]
  },
  {
   "cell_type": "code",
   "execution_count": 48,
   "metadata": {},
   "outputs": [],
   "source": [
    "soup = scrape('https://en.wikipedia.org/wiki/Nasugbu')"
   ]
  },
  {
   "cell_type": "code",
   "execution_count": 49,
   "metadata": {},
   "outputs": [],
   "source": [
    "location_data = soup.select('td', {'class': 'infobox-data'})\n",
    "location = \"Nasugbu\"\n",
    "population = location_data[28].getText()\n",
    "language = location_data[52].getText()\n",
    "desc = soup.select('p')\n",
    "description = desc[1].getText()\n",
    "locations_data.append({\n",
    "        'Location': location,\n",
    "        'Population': population,\n",
    "        'Language': language,\n",
    "        'Description': description    \n",
    "    })"
   ]
  },
  {
   "cell_type": "code",
   "execution_count": 50,
   "metadata": {},
   "outputs": [],
   "source": [
    "soup = scrape('https://en.wikipedia.org/wiki/Cabanatuan')"
   ]
  },
  {
   "cell_type": "code",
   "execution_count": 51,
   "metadata": {},
   "outputs": [],
   "source": [
    "location_data = soup.select('td', {'class': 'infobox-data'})\n",
    "location = \"Cabanatuan\"\n",
    "population = location_data[27].getText()\n",
    "language = location_data[42].getText()\n",
    "desc = soup.select('p')\n",
    "description = desc[1].getText()\n",
    "locations_data.append({\n",
    "        'Location': location,\n",
    "        'Population': population,\n",
    "        'Language': language,\n",
    "        'Description': description    \n",
    "    })"
   ]
  },
  {
   "cell_type": "code",
   "execution_count": 52,
   "metadata": {},
   "outputs": [],
   "source": [
    "soup = scrape('https://en.wikipedia.org/wiki/San_Juan,_Metro_Manila')"
   ]
  },
  {
   "cell_type": "code",
   "execution_count": 53,
   "metadata": {},
   "outputs": [],
   "source": [
    "location_data = soup.select('td', {'class': 'infobox-data'})\n",
    "location = \"San Juan\"\n",
    "population = location_data[32].getText()\n",
    "language = location_data[47].getText()\n",
    "desc = soup.select('p')\n",
    "description = desc[1].getText()\n",
    "locations_data.append({\n",
    "        'Location': location,\n",
    "        'Population': population,\n",
    "        'Language': language,\n",
    "        'Description': description    \n",
    "    })"
   ]
  },
  {
   "cell_type": "code",
   "execution_count": 54,
   "metadata": {},
   "outputs": [],
   "source": [
    "soup = scrape('https://en.wikipedia.org/wiki/Boracay')"
   ]
  },
  {
   "cell_type": "code",
   "execution_count": 55,
   "metadata": {},
   "outputs": [],
   "source": [
    "location_data = soup.select('td', {'class': 'infobox-data'})\n",
    "location = \"Boracay\"\n",
    "population = location_data[16].getText()\n",
    "language = location_data[18].getText()\n",
    "desc = soup.select('p')\n",
    "description = desc[1].getText()\n",
    "locations_data.append({\n",
    "        'Location': location,\n",
    "        'Population': population,\n",
    "        'Language': language,\n",
    "        'Description': description    \n",
    "    })"
   ]
  },
  {
   "cell_type": "code",
   "execution_count": 56,
   "metadata": {},
   "outputs": [],
   "source": [
    "soup = scrape('https://en.wikipedia.org/wiki/Puerto_Princesa')"
   ]
  },
  {
   "cell_type": "code",
   "execution_count": 57,
   "metadata": {},
   "outputs": [],
   "source": [
    "location_data = soup.select('td', {'class': 'infobox-data'})\n",
    "location = \"Puerto Princesa, Palawan\"\n",
    "population = location_data[28].getText()\n",
    "language = location_data[41].getText()\n",
    "desc = soup.select('p')\n",
    "description = desc[1].getText()\n",
    "locations_data.append({\n",
    "        'Location': location,\n",
    "        'Population': population,\n",
    "        'Language': language,\n",
    "        'Description': description    \n",
    "    })"
   ]
  },
  {
   "cell_type": "code",
   "execution_count": 58,
   "metadata": {},
   "outputs": [],
   "source": [
    "soup = scrape('https://en.wikipedia.org/wiki/Coron,_Palawan')"
   ]
  },
  {
   "cell_type": "code",
   "execution_count": 59,
   "metadata": {},
   "outputs": [],
   "source": [
    "location_data = soup.select('td', {'class': 'infobox-data'})\n",
    "location = \"Coron, Palawan\"\n",
    "population = location_data[24].getText()\n",
    "language = location_data[38].getText()\n",
    "desc = soup.select('p')\n",
    "description = desc[0].getText()\n",
    "locations_data.append({\n",
    "        'Location': location,\n",
    "        'Population': population,\n",
    "        'Language': language,\n",
    "        'Description': description    \n",
    "    })"
   ]
  },
  {
   "cell_type": "code",
   "execution_count": 60,
   "metadata": {},
   "outputs": [],
   "source": [
    "soup = scrape('https://en.wikipedia.org/wiki/El_Nido,_Palawan')"
   ]
  },
  {
   "cell_type": "code",
   "execution_count": 61,
   "metadata": {},
   "outputs": [],
   "source": [
    "location_data = soup.select('td', {'class': 'infobox-data'})\n",
    "location = \"El Nido, Palawan\"\n",
    "population = location_data[27].getText()\n",
    "language = location_data[41].getText()\n",
    "desc = soup.select('p')\n",
    "description = desc[1].getText()\n",
    "locations_data.append({\n",
    "        'Location': location,\n",
    "        'Population': population,\n",
    "        'Language': language,\n",
    "        'Description': description    \n",
    "    })"
   ]
  },
  {
   "cell_type": "code",
   "execution_count": 62,
   "metadata": {},
   "outputs": [],
   "source": [
    "soup = scrape('https://en.wikipedia.org/wiki/Tagbilaran')"
   ]
  },
  {
   "cell_type": "code",
   "execution_count": 63,
   "metadata": {},
   "outputs": [],
   "source": [
    "location_data = soup.select('td', {'class': 'infobox-data'})\n",
    "location = \"Bohol\"\n",
    "population = location_data[24].getText()\n",
    "language = location_data[38].getText()\n",
    "desc = soup.select('p')\n",
    "description = desc[1].getText()\n",
    "locations_data.append({\n",
    "        'Location': location,\n",
    "        'Population': population,\n",
    "        'Language': language,\n",
    "        'Description': description    \n",
    "    })"
   ]
  },
  {
   "cell_type": "code",
   "execution_count": 64,
   "metadata": {},
   "outputs": [],
   "source": [
    "soup = scrape('https://en.wikipedia.org/wiki/Banaue')"
   ]
  },
  {
   "cell_type": "code",
   "execution_count": 65,
   "metadata": {},
   "outputs": [],
   "source": [
    "location_data = soup.select('td', {'class': 'infobox-data'})\n",
    "location = \"Banaue\"\n",
    "population = location_data[23].getText()\n",
    "language = location_data[37].getText()\n",
    "desc = soup.select('p')\n",
    "description = desc[1].getText()\n",
    "locations_data.append({\n",
    "        'Location': location,\n",
    "        'Population': population,\n",
    "        'Language': language,\n",
    "        'Description': description    \n",
    "    })"
   ]
  },
  {
   "cell_type": "code",
   "execution_count": 66,
   "metadata": {},
   "outputs": [],
   "source": [
    "soup = scrape('https://en.wikipedia.org/wiki/Cebu')"
   ]
  },
  {
   "cell_type": "code",
   "execution_count": 67,
   "metadata": {},
   "outputs": [],
   "source": [
    "location_data = soup.select('td', {'class': 'infobox-data'})\n",
    "location = \"Cebu\"\n",
    "population = location_data[24].getText()\n",
    "language = location_data[29].getText()\n",
    "desc = soup.select('p')\n",
    "description = desc[1].getText()\n",
    "locations_data.append({\n",
    "        'Location': location,\n",
    "        'Population': population,\n",
    "        'Language': language,\n",
    "        'Description': description    \n",
    "    })"
   ]
  },
  {
   "cell_type": "code",
   "execution_count": 68,
   "metadata": {},
   "outputs": [],
   "source": [
    "soup = scrape('https://en.wikipedia.org/wiki/Albay')"
   ]
  },
  {
   "cell_type": "code",
   "execution_count": 69,
   "metadata": {},
   "outputs": [],
   "source": [
    "location_data = soup.select('td', {'class': 'infobox-data'})\n",
    "location = \"Albay\"\n",
    "population = location_data[20].getText()\n",
    "language = location_data[34].getText()\n",
    "# Split the text into words\n",
    "words = language.split()\n",
    "\n",
    "# Get the last word\n",
    "if len(words) > 0:\n",
    "    last_word = words[-1]\n",
    "    language = last_word\n",
    "else:\n",
    "    print(\"The text is empty.\")\n",
    "desc = soup.select('p')\n",
    "description = desc[1].getText()\n",
    "locations_data.append({\n",
    "        'Location': location,\n",
    "        'Population': population,\n",
    "        'Language': language,\n",
    "        'Description': description    \n",
    "    })"
   ]
  },
  {
   "cell_type": "code",
   "execution_count": 70,
   "metadata": {},
   "outputs": [],
   "source": [
    "soup = scrape('https://en.wikipedia.org/wiki/Siquijor')"
   ]
  },
  {
   "cell_type": "code",
   "execution_count": 71,
   "metadata": {},
   "outputs": [],
   "source": [
    "location_data = soup.select('td', {'class': 'infobox-data'})\n",
    "location = \"Siquijor\"\n",
    "population = location_data[21].getText()\n",
    "language = location_data[26].getText()\n",
    "desc = soup.select('p')\n",
    "description = desc[1].getText()\n",
    "locations_data.append({\n",
    "        'Location': location,\n",
    "        'Population': population,\n",
    "        'Language': language,\n",
    "        'Description': description    \n",
    "    })"
   ]
  },
  {
   "cell_type": "code",
   "execution_count": 72,
   "metadata": {},
   "outputs": [],
   "source": [
    "soup = scrape('https://en.wikipedia.org/wiki/Batangas')"
   ]
  },
  {
   "cell_type": "code",
   "execution_count": 73,
   "metadata": {},
   "outputs": [],
   "source": [
    "location_data = soup.select('td', {'class': 'infobox-data'})\n",
    "location = \"Batangas\"\n",
    "population = location_data[24].getText()\n",
    "language = location_data[38].getText()\n",
    "# Split the text into words\n",
    "words = language.split()\n",
    "\n",
    "# Get the last word\n",
    "if len(words) > 0:\n",
    "    last_word = words[-1]\n",
    "    last2_word = words[-2]\n",
    "    last3_word = words[-3]\n",
    "    language = last3_word+last2_word+last_word\n",
    "else:\n",
    "    print(\"The text is empty.\")\n",
    "desc = soup.select('p')\n",
    "description = desc[3].getText()\n",
    "locations_data.append({\n",
    "        'Location': location,\n",
    "        'Population': population,\n",
    "        'Language': language,\n",
    "        'Description': description    \n",
    "    })"
   ]
  },
  {
   "cell_type": "code",
   "execution_count": 74,
   "metadata": {},
   "outputs": [],
   "source": [
    "soup = scrape('https://en.wikipedia.org/wiki/Vigan')"
   ]
  },
  {
   "cell_type": "code",
   "execution_count": 75,
   "metadata": {},
   "outputs": [],
   "source": [
    "location_data = soup.select('td', {'class': 'infobox-data'})\n",
    "location = \"Vigan\"\n",
    "population = location_data[28].getText()\n",
    "language = location_data[42].getText()\n",
    "desc = soup.select('p')\n",
    "description = desc[1].getText()\n",
    "locations_data.append({\n",
    "        'Location': location,\n",
    "        'Population': population,\n",
    "        'Language': language,\n",
    "        'Description': description    \n",
    "    })"
   ]
  },
  {
   "cell_type": "code",
   "execution_count": 76,
   "metadata": {},
   "outputs": [
    {
     "data": {
      "text/html": [
       "<div>\n",
       "<style scoped>\n",
       "    .dataframe tbody tr th:only-of-type {\n",
       "        vertical-align: middle;\n",
       "    }\n",
       "\n",
       "    .dataframe tbody tr th {\n",
       "        vertical-align: top;\n",
       "    }\n",
       "\n",
       "    .dataframe thead th {\n",
       "        text-align: right;\n",
       "    }\n",
       "</style>\n",
       "<table border=\"1\" class=\"dataframe\">\n",
       "  <thead>\n",
       "    <tr style=\"text-align: right;\">\n",
       "      <th></th>\n",
       "      <th>Location</th>\n",
       "      <th>Population</th>\n",
       "      <th>Language</th>\n",
       "      <th>Description</th>\n",
       "    </tr>\n",
       "  </thead>\n",
       "  <tbody>\n",
       "    <tr>\n",
       "      <td>0</td>\n",
       "      <td>Pasay</td>\n",
       "      <td>440.656</td>\n",
       "      <td>Tagalog</td>\n",
       "      <td>Pasay, officially the City of Pasay (Filipino:...</td>\n",
       "    </tr>\n",
       "    <tr>\n",
       "      <td>1</td>\n",
       "      <td>Manila</td>\n",
       "      <td>1846.513</td>\n",
       "      <td>Tagalog</td>\n",
       "      <td>Manila (/məˈnɪlə/ mə-NIL-ə, .mw-parser-output ...</td>\n",
       "    </tr>\n",
       "    <tr>\n",
       "      <td>2</td>\n",
       "      <td>Makati</td>\n",
       "      <td>629.616</td>\n",
       "      <td>Tagalog</td>\n",
       "      <td>Makati (/məˈkɑːti/ mə-KAH-tee; .mw-parser-outp...</td>\n",
       "    </tr>\n",
       "    <tr>\n",
       "      <td>3</td>\n",
       "      <td>Paranaque</td>\n",
       "      <td>689.992</td>\n",
       "      <td>Tagalog</td>\n",
       "      <td>Parañaque, officially the City of Parañaque (F...</td>\n",
       "    </tr>\n",
       "    <tr>\n",
       "      <td>4</td>\n",
       "      <td>Loboc</td>\n",
       "      <td>17.418</td>\n",
       "      <td>Boholano dialect Cebuano Tagalog</td>\n",
       "      <td>Located 25 kilometres (16 mi) east of Tagbilar...</td>\n",
       "    </tr>\n",
       "  </tbody>\n",
       "</table>\n",
       "</div>"
      ],
      "text/plain": [
       "    Location  Population                          Language  \\\n",
       "0      Pasay     440.656                           Tagalog   \n",
       "1     Manila    1846.513                           Tagalog   \n",
       "2     Makati     629.616                           Tagalog   \n",
       "3  Paranaque     689.992                           Tagalog   \n",
       "4      Loboc      17.418  Boholano dialect Cebuano Tagalog   \n",
       "\n",
       "                                         Description  \n",
       "0  Pasay, officially the City of Pasay (Filipino:...  \n",
       "1  Manila (/məˈnɪlə/ mə-NIL-ə, .mw-parser-output ...  \n",
       "2  Makati (/məˈkɑːti/ mə-KAH-tee; .mw-parser-outp...  \n",
       "3  Parañaque, officially the City of Parañaque (F...  \n",
       "4  Located 25 kilometres (16 mi) east of Tagbilar...  "
      ]
     },
     "execution_count": 76,
     "metadata": {},
     "output_type": "execute_result"
    }
   ],
   "source": [
    "locations = pd.DataFrame(locations_data)\n",
    "locations['Population'] = locations['Population'].str.replace(r'\\s*\\(\\d+\\)', '', regex=True)\n",
    "locations['Population'] = locations['Population'].str.replace(\",\", \"\").astype(float)\n",
    "locations['Population'] = locations['Population']/1000\n",
    "locations.head()"
   ]
  },
  {
   "cell_type": "code",
   "execution_count": 77,
   "metadata": {},
   "outputs": [],
   "source": [
    "#export data to Locations_site.csv file\n",
    "locations.to_csv(\"C:/Users/mneme/Desktop/Locations_site.csv\", index = False)"
   ]
  },
  {
   "cell_type": "code",
   "execution_count": null,
   "metadata": {},
   "outputs": [],
   "source": []
  }
 ],
 "metadata": {
  "kernelspec": {
   "display_name": "Python 3",
   "language": "python",
   "name": "python3"
  },
  "language_info": {
   "codemirror_mode": {
    "name": "ipython",
    "version": 3
   },
   "file_extension": ".py",
   "mimetype": "text/x-python",
   "name": "python",
   "nbconvert_exporter": "python",
   "pygments_lexer": "ipython3",
   "version": "3.7.4"
  }
 },
 "nbformat": 4,
 "nbformat_minor": 2
}
